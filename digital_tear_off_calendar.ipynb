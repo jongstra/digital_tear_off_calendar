{
 "cells": [
  {
   "cell_type": "markdown",
   "id": "f8813d59",
   "metadata": {},
   "source": [
    "# Digital Tear-off Calendar"
   ]
  },
  {
   "cell_type": "code",
   "execution_count": null,
   "id": "ff962484",
   "metadata": {
    "ExecuteTime": {
     "end_time": "2022-10-26T10:36:34.273854Z",
     "start_time": "2022-10-26T10:36:33.520567Z"
    }
   },
   "outputs": [],
   "source": [
    "import time\n",
    "import pytz\n",
    "import geocoder\n",
    "from datetime import datetime\n",
    "from timezonefinder import TimezoneFinder\n",
    "\n",
    "from meteostat import Point, Daily, Stations  # https://meteostat.net/en/blog/obtain-weather-data-any-location-python\n",
    "\n",
    "from PIL import Image\n",
    "import requests\n",
    "from io import BytesIO\n",
    "\n",
    "from bs4 import BeautifulSoup\n",
    "\n",
    "import random\n",
    "import replicate\n",
    "from IPython.display import display"
   ]
  },
  {
   "cell_type": "code",
   "execution_count": null,
   "id": "8da29e66",
   "metadata": {
    "ExecuteTime": {
     "end_time": "2022-10-26T10:36:34.416994Z",
     "start_time": "2022-10-26T10:36:34.275729Z"
    }
   },
   "outputs": [],
   "source": [
    "# Get location.\n",
    "g = geocoder.ip('me')"
   ]
  },
  {
   "cell_type": "code",
   "execution_count": null,
   "id": "79e4335f",
   "metadata": {
    "ExecuteTime": {
     "end_time": "2022-10-26T10:36:34.935361Z",
     "start_time": "2022-10-26T10:36:34.424140Z"
    }
   },
   "outputs": [],
   "source": [
    "# Get date.\n",
    "obj = TimezoneFinder()\n",
    "tz_string = obj.timezone_at(lng=g.lng, lat=g.lat)\n",
    "tz = pytz.timezone(tz_string)\n",
    "local_now = datetime.now(tz)\n",
    "local_date = datetime(local_now.year, local_now.month, local_now.day)"
   ]
  },
  {
   "cell_type": "code",
   "execution_count": null,
   "id": "38b7aca1",
   "metadata": {
    "ExecuteTime": {
     "end_time": "2022-10-26T10:36:34.968403Z",
     "start_time": "2022-10-26T10:36:34.937118Z"
    },
    "scrolled": true
   },
   "outputs": [],
   "source": [
    "# Get the weather status. (ideally has sunny/rainy/cloudy/etc.. now mainly has temperatures)\n",
    "location = Point(g.lat, g.lng)\n",
    "data = Daily(location, local_date, local_date)\n",
    "data = data.fetch()\n",
    "avg_temp = data.tavg[0]"
   ]
  },
  {
   "cell_type": "code",
   "execution_count": null,
   "id": "4e40137c",
   "metadata": {
    "ExecuteTime": {
     "end_time": "2022-10-26T10:36:34.973751Z",
     "start_time": "2022-10-26T10:36:34.969603Z"
    }
   },
   "outputs": [],
   "source": [
    "# Get famous events and famous people's birthdays for the current day from Wikipedia.\n",
    "def scrape_daily_wiki_url(url):\n",
    "    response = requests.get(url)\n",
    "    soup = BeautifulSoup(response.content, 'html.parser')\n",
    "    headlines = soup('span', {'class' : 'mw-headline'})\n",
    "    data = {}\n",
    "    for headline in headlines:\n",
    "        if headline.text == \"References\":\n",
    "            return data\n",
    "        if headline.text in [\"Events\", \"Births\", \"Deaths\", \"Holidays and observances\"]:\n",
    "            key = headline.text\n",
    "            data[key] = []\n",
    "        links = headline.find_next('ul').find_all('li')\n",
    "        links = [link.text for link in links]\n",
    "        data[key].extend(links)\n",
    "\n",
    "def get_daily_wiki_url(date):\n",
    "    month_string = date.strftime(\"%B\")\n",
    "    day_string = date.strftime(\"%d\")\n",
    "    wikipedia_url = f\"https://en.wikipedia.org/wiki/{month_string}_{day_string}\"\n",
    "    return wikipedia_url\n",
    "\n",
    "def get_daily_wiki_info(date):\n",
    "    url = get_daily_wiki_url(date)\n",
    "    info = scrape_daily_wiki_url(url)\n",
    "    return info"
   ]
  },
  {
   "cell_type": "code",
   "execution_count": null,
   "id": "f0a78640",
   "metadata": {
    "ExecuteTime": {
     "end_time": "2022-10-26T10:36:34.979297Z",
     "start_time": "2022-10-26T10:36:34.975348Z"
    }
   },
   "outputs": [],
   "source": [
    "# Grab headlines of the current day from BBC.\n",
    "def scrape_bbc_headlines():\n",
    "    url='https://www.bbc.com/news'\n",
    "    response = requests.get(url)\n",
    "    soup = BeautifulSoup(response.text, 'html.parser')\n",
    "    headlines = soup.find('body').find_all('h3')\n",
    "    headlines = [x.text.strip() for x in headlines]\n",
    "    return headlines"
   ]
  },
  {
   "cell_type": "code",
   "execution_count": null,
   "id": "45770baf",
   "metadata": {
    "ExecuteTime": {
     "end_time": "2022-10-26T10:36:34.983413Z",
     "start_time": "2022-10-26T10:36:34.980634Z"
    }
   },
   "outputs": [],
   "source": [
    "# Create an image from prompt.\n",
    "def create_image_from_query(prompt):\n",
    "    model = replicate.models.get(\"stability-ai/stable-diffusion\")\n",
    "    prompt += \" elegant, render, octane, detailed, award winning photography, masterpiece -ar 2:3 -beta -upbeta\"  # Make prompt pretty.\n",
    "    image_url = model.predict(prompt=prompt)[0]\n",
    "    response = requests.get(image_url)\n",
    "    img = Image.open(BytesIO(response.content))\n",
    "    return img"
   ]
  },
  {
   "cell_type": "code",
   "execution_count": null,
   "id": "52b48fa9",
   "metadata": {
    "ExecuteTime": {
     "end_time": "2022-10-26T10:36:34.988197Z",
     "start_time": "2022-10-26T10:36:34.984552Z"
    }
   },
   "outputs": [],
   "source": [
    "# Create a daily image based on historic facts from wikipedia.\n",
    "def create_daily_image_wiki():\n",
    "    day_info = get_daily_wiki_info(local_date)\n",
    "    random_fact_type = random.choice(list(day_info.keys()))\n",
    "    random_fact = random.choice(day_info[random_fact_type])\n",
    "    image = create_image_from_query(random_fact)\n",
    "    date_string = f\"{local_date.strftime('%d')} {local_date.strftime('%B')}\"\n",
    "    print(f\"Generated an image of a {random_fact_type} fact for {date_string}.\\n\\n[{random_fact_type} fact]\\n{random_fact}\")\n",
    "    display(image)\n",
    "    return image, random_fact_type, random_fact"
   ]
  },
  {
   "cell_type": "code",
   "execution_count": null,
   "id": "94abef3c",
   "metadata": {
    "ExecuteTime": {
     "end_time": "2022-10-26T10:36:34.992602Z",
     "start_time": "2022-10-26T10:36:34.989576Z"
    }
   },
   "outputs": [],
   "source": [
    "# # Create a daily image based on historic events from wikipedia.\n",
    "# def create_daily_image_wiki():\n",
    "#     day_info = get_daily_wiki_info(local_date)\n",
    "#     event = random.choice(day_info[\"Events\"])\n",
    "#     image = create_image_from_query(event)\n",
    "#     date_string = f\"{local_date.strftime('%d')} {local_date.strftime('%B')}\"\n",
    "#     print(f\"Generated an image of an Events fact for {date_string}.\\n\\n[Event]\\n{event}\")\n",
    "#     display(image)\n",
    "#     return image, event"
   ]
  },
  {
   "cell_type": "code",
   "execution_count": null,
   "id": "f0f123cd",
   "metadata": {
    "ExecuteTime": {
     "end_time": "2022-10-26T10:36:34.998238Z",
     "start_time": "2022-10-26T10:36:34.995461Z"
    }
   },
   "outputs": [],
   "source": [
    "def create_daily_image_bbc():\n",
    "    headlines = scrape_bbc_headlines()\n",
    "    random_headline = random.choice(headlines)\n",
    "    image = create_image_from_query(random_headline)\n",
    "    date_string = f\"{local_date.strftime('%d')} {local_date.strftime('%B')}\"\n",
    "    print(f\"Generated an image for today {date_string} using the following BBC headline:\\n\\n{random_headline}.\")\n",
    "    display(image)\n",
    "    return image"
   ]
  },
  {
   "cell_type": "code",
   "execution_count": null,
   "id": "02d5c84e",
   "metadata": {
    "ExecuteTime": {
     "end_time": "2022-10-26T10:36:36.260279Z",
     "start_time": "2022-10-26T10:36:34.999891Z"
    },
    "scrolled": false
   },
   "outputs": [],
   "source": [
    "image, random_fact_type, random_fact = create_daily_image_wiki()\n",
    "print(\"-------------------------------------------------------------\")\n",
    "image = create_daily_image_bbc()"
   ]
  }
 ],
 "metadata": {
  "kernelspec": {
   "display_name": "Python 3 (ipykernel)",
   "language": "python",
   "name": "python3"
  },
  "language_info": {
   "codemirror_mode": {
    "name": "ipython",
    "version": 3
   },
   "file_extension": ".py",
   "mimetype": "text/x-python",
   "name": "python",
   "nbconvert_exporter": "python",
   "pygments_lexer": "ipython3",
   "version": "3.10.7"
  }
 },
 "nbformat": 4,
 "nbformat_minor": 5
}
